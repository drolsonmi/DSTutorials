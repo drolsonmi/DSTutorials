{
 "cells": [
  {
   "cell_type": "markdown",
   "id": "ca0812a3-ee8b-4e6c-a4e5-8f73baf47c25",
   "metadata": {},
   "source": [
    "# Missing Values in R\n",
    "We need to do two things:\n",
    "1. Count the number of missing values\n",
    "2. Decide what to do with them\n",
    "\n",
    "I'll show this process using the Titanic dataframe (passengers who were on the Titanic)."
   ]
  },
  {
   "cell_type": "code",
   "execution_count": 1,
   "id": "0e2a85a3-d01f-4e17-b75c-8f386bbb6089",
   "metadata": {},
   "outputs": [
    {
     "data": {
      "text/html": [
       "<table class=\"dataframe\">\n",
       "<caption>A data.frame: 10 × 12</caption>\n",
       "<thead>\n",
       "\t<tr><th></th><th scope=col>PassengerId</th><th scope=col>Survived</th><th scope=col>Pclass</th><th scope=col>Name</th><th scope=col>Sex</th><th scope=col>Age</th><th scope=col>SibSp</th><th scope=col>Parch</th><th scope=col>Ticket</th><th scope=col>Fare</th><th scope=col>Cabin</th><th scope=col>Embarked</th></tr>\n",
       "\t<tr><th></th><th scope=col>&lt;int&gt;</th><th scope=col>&lt;int&gt;</th><th scope=col>&lt;int&gt;</th><th scope=col>&lt;chr&gt;</th><th scope=col>&lt;chr&gt;</th><th scope=col>&lt;dbl&gt;</th><th scope=col>&lt;int&gt;</th><th scope=col>&lt;int&gt;</th><th scope=col>&lt;chr&gt;</th><th scope=col>&lt;dbl&gt;</th><th scope=col>&lt;chr&gt;</th><th scope=col>&lt;chr&gt;</th></tr>\n",
       "</thead>\n",
       "<tbody>\n",
       "\t<tr><th scope=row>1</th><td> 1</td><td>0</td><td>3</td><td>Braund, Mr. Owen Harris                            </td><td>male  </td><td>22</td><td>1</td><td>0</td><td>A/5 21171       </td><td> 7.2500</td><td>    </td><td>S</td></tr>\n",
       "\t<tr><th scope=row>2</th><td> 2</td><td>1</td><td>1</td><td>Cumings, Mrs. John Bradley (Florence Briggs Thayer)</td><td>female</td><td>38</td><td>1</td><td>0</td><td>PC 17599        </td><td>71.2833</td><td>C85 </td><td>C</td></tr>\n",
       "\t<tr><th scope=row>3</th><td> 3</td><td>1</td><td>3</td><td>Heikkinen, Miss. Laina                             </td><td>female</td><td>26</td><td>0</td><td>0</td><td>STON/O2. 3101282</td><td> 7.9250</td><td>    </td><td>S</td></tr>\n",
       "\t<tr><th scope=row>4</th><td> 4</td><td>1</td><td>1</td><td>Futrelle, Mrs. Jacques Heath (Lily May Peel)       </td><td>female</td><td>35</td><td>1</td><td>0</td><td>113803          </td><td>53.1000</td><td>C123</td><td>S</td></tr>\n",
       "\t<tr><th scope=row>5</th><td> 5</td><td>0</td><td>3</td><td>Allen, Mr. William Henry                           </td><td>male  </td><td>35</td><td>0</td><td>0</td><td>373450          </td><td> 8.0500</td><td>    </td><td>S</td></tr>\n",
       "\t<tr><th scope=row>6</th><td> 6</td><td>0</td><td>3</td><td>Moran, Mr. James                                   </td><td>male  </td><td>NA</td><td>0</td><td>0</td><td>330877          </td><td> 8.4583</td><td>    </td><td>Q</td></tr>\n",
       "\t<tr><th scope=row>7</th><td> 7</td><td>0</td><td>1</td><td>McCarthy, Mr. Timothy J                            </td><td>male  </td><td>54</td><td>0</td><td>0</td><td>17463           </td><td>51.8625</td><td>E46 </td><td>S</td></tr>\n",
       "\t<tr><th scope=row>8</th><td> 8</td><td>0</td><td>3</td><td>Palsson, Master. Gosta Leonard                     </td><td>male  </td><td> 2</td><td>3</td><td>1</td><td>349909          </td><td>21.0750</td><td>    </td><td>S</td></tr>\n",
       "\t<tr><th scope=row>9</th><td> 9</td><td>1</td><td>3</td><td>Johnson, Mrs. Oscar W (Elisabeth Vilhelmina Berg)  </td><td>female</td><td>27</td><td>0</td><td>2</td><td>347742          </td><td>11.1333</td><td>    </td><td>S</td></tr>\n",
       "\t<tr><th scope=row>10</th><td>10</td><td>1</td><td>2</td><td>Nasser, Mrs. Nicholas (Adele Achem)                </td><td>female</td><td>14</td><td>1</td><td>0</td><td>237736          </td><td>30.0708</td><td>    </td><td>C</td></tr>\n",
       "</tbody>\n",
       "</table>\n"
      ],
      "text/latex": [
       "A data.frame: 10 × 12\n",
       "\\begin{tabular}{r|llllllllllll}\n",
       "  & PassengerId & Survived & Pclass & Name & Sex & Age & SibSp & Parch & Ticket & Fare & Cabin & Embarked\\\\\n",
       "  & <int> & <int> & <int> & <chr> & <chr> & <dbl> & <int> & <int> & <chr> & <dbl> & <chr> & <chr>\\\\\n",
       "\\hline\n",
       "\t1 &  1 & 0 & 3 & Braund, Mr. Owen Harris                             & male   & 22 & 1 & 0 & A/5 21171        &  7.2500 &      & S\\\\\n",
       "\t2 &  2 & 1 & 1 & Cumings, Mrs. John Bradley (Florence Briggs Thayer) & female & 38 & 1 & 0 & PC 17599         & 71.2833 & C85  & C\\\\\n",
       "\t3 &  3 & 1 & 3 & Heikkinen, Miss. Laina                              & female & 26 & 0 & 0 & STON/O2. 3101282 &  7.9250 &      & S\\\\\n",
       "\t4 &  4 & 1 & 1 & Futrelle, Mrs. Jacques Heath (Lily May Peel)        & female & 35 & 1 & 0 & 113803           & 53.1000 & C123 & S\\\\\n",
       "\t5 &  5 & 0 & 3 & Allen, Mr. William Henry                            & male   & 35 & 0 & 0 & 373450           &  8.0500 &      & S\\\\\n",
       "\t6 &  6 & 0 & 3 & Moran, Mr. James                                    & male   & NA & 0 & 0 & 330877           &  8.4583 &      & Q\\\\\n",
       "\t7 &  7 & 0 & 1 & McCarthy, Mr. Timothy J                             & male   & 54 & 0 & 0 & 17463            & 51.8625 & E46  & S\\\\\n",
       "\t8 &  8 & 0 & 3 & Palsson, Master. Gosta Leonard                      & male   &  2 & 3 & 1 & 349909           & 21.0750 &      & S\\\\\n",
       "\t9 &  9 & 1 & 3 & Johnson, Mrs. Oscar W (Elisabeth Vilhelmina Berg)   & female & 27 & 0 & 2 & 347742           & 11.1333 &      & S\\\\\n",
       "\t10 & 10 & 1 & 2 & Nasser, Mrs. Nicholas (Adele Achem)                 & female & 14 & 1 & 0 & 237736           & 30.0708 &      & C\\\\\n",
       "\\end{tabular}\n"
      ],
      "text/markdown": [
       "\n",
       "A data.frame: 10 × 12\n",
       "\n",
       "| <!--/--> | PassengerId &lt;int&gt; | Survived &lt;int&gt; | Pclass &lt;int&gt; | Name &lt;chr&gt; | Sex &lt;chr&gt; | Age &lt;dbl&gt; | SibSp &lt;int&gt; | Parch &lt;int&gt; | Ticket &lt;chr&gt; | Fare &lt;dbl&gt; | Cabin &lt;chr&gt; | Embarked &lt;chr&gt; |\n",
       "|---|---|---|---|---|---|---|---|---|---|---|---|---|\n",
       "| 1 |  1 | 0 | 3 | Braund, Mr. Owen Harris                             | male   | 22 | 1 | 0 | A/5 21171        |  7.2500 | <!----> | S |\n",
       "| 2 |  2 | 1 | 1 | Cumings, Mrs. John Bradley (Florence Briggs Thayer) | female | 38 | 1 | 0 | PC 17599         | 71.2833 | C85  | C |\n",
       "| 3 |  3 | 1 | 3 | Heikkinen, Miss. Laina                              | female | 26 | 0 | 0 | STON/O2. 3101282 |  7.9250 | <!----> | S |\n",
       "| 4 |  4 | 1 | 1 | Futrelle, Mrs. Jacques Heath (Lily May Peel)        | female | 35 | 1 | 0 | 113803           | 53.1000 | C123 | S |\n",
       "| 5 |  5 | 0 | 3 | Allen, Mr. William Henry                            | male   | 35 | 0 | 0 | 373450           |  8.0500 | <!----> | S |\n",
       "| 6 |  6 | 0 | 3 | Moran, Mr. James                                    | male   | NA | 0 | 0 | 330877           |  8.4583 | <!----> | Q |\n",
       "| 7 |  7 | 0 | 1 | McCarthy, Mr. Timothy J                             | male   | 54 | 0 | 0 | 17463            | 51.8625 | E46  | S |\n",
       "| 8 |  8 | 0 | 3 | Palsson, Master. Gosta Leonard                      | male   |  2 | 3 | 1 | 349909           | 21.0750 | <!----> | S |\n",
       "| 9 |  9 | 1 | 3 | Johnson, Mrs. Oscar W (Elisabeth Vilhelmina Berg)   | female | 27 | 0 | 2 | 347742           | 11.1333 | <!----> | S |\n",
       "| 10 | 10 | 1 | 2 | Nasser, Mrs. Nicholas (Adele Achem)                 | female | 14 | 1 | 0 | 237736           | 30.0708 | <!----> | C |\n",
       "\n"
      ],
      "text/plain": [
       "   PassengerId Survived Pclass\n",
       "1   1          0        3     \n",
       "2   2          1        1     \n",
       "3   3          1        3     \n",
       "4   4          1        1     \n",
       "5   5          0        3     \n",
       "6   6          0        3     \n",
       "7   7          0        1     \n",
       "8   8          0        3     \n",
       "9   9          1        3     \n",
       "10 10          1        2     \n",
       "   Name                                                Sex    Age SibSp Parch\n",
       "1  Braund, Mr. Owen Harris                             male   22  1     0    \n",
       "2  Cumings, Mrs. John Bradley (Florence Briggs Thayer) female 38  1     0    \n",
       "3  Heikkinen, Miss. Laina                              female 26  0     0    \n",
       "4  Futrelle, Mrs. Jacques Heath (Lily May Peel)        female 35  1     0    \n",
       "5  Allen, Mr. William Henry                            male   35  0     0    \n",
       "6  Moran, Mr. James                                    male   NA  0     0    \n",
       "7  McCarthy, Mr. Timothy J                             male   54  0     0    \n",
       "8  Palsson, Master. Gosta Leonard                      male    2  3     1    \n",
       "9  Johnson, Mrs. Oscar W (Elisabeth Vilhelmina Berg)   female 27  0     2    \n",
       "10 Nasser, Mrs. Nicholas (Adele Achem)                 female 14  1     0    \n",
       "   Ticket           Fare    Cabin Embarked\n",
       "1  A/5 21171         7.2500       S       \n",
       "2  PC 17599         71.2833 C85   C       \n",
       "3  STON/O2. 3101282  7.9250       S       \n",
       "4  113803           53.1000 C123  S       \n",
       "5  373450            8.0500       S       \n",
       "6  330877            8.4583       Q       \n",
       "7  17463            51.8625 E46   S       \n",
       "8  349909           21.0750       S       \n",
       "9  347742           11.1333       S       \n",
       "10 237736           30.0708       C       "
      ]
     },
     "metadata": {},
     "output_type": "display_data"
    }
   ],
   "source": [
    "titanic_df = read.csv('titanic.csv')\n",
    "head(titanic_df, 10)   # This displays the first 10 rows of the dataframe. Without the number, the default is 6."
   ]
  },
  {
   "cell_type": "markdown",
   "id": "b90fb1ed-8b9a-422b-8011-253c9e0d8252",
   "metadata": {},
   "source": [
    "## 1. Counting the missing values in your dataframe\n",
    "You'll want to count the number of missing values in a column to determine what to do with the column. The following command will do that:\n",
    "```R\n",
    "sum( is.na( df$col ) )\n",
    "```\n",
    "\n",
    "* `df$col` will call just the one variable you want to address\n",
    "* `is.na( )` will test if each value in that variable is NA or if it has a valid value.\n",
    "  * If the value is valid, it is assigned a 0\n",
    "  * If the value is NA, then it is assigned a 1\n",
    "* `sum( )` will add all the numbers. In this case, it will add all of the 1's (that is, it is counting all the NA's)\n",
    "\n",
    "The above command will only count the number of NA's in a single column. To do multiple columns, there are two methods:"
   ]
  },
  {
   "cell_type": "markdown",
   "id": "576a690b-c05c-4546-803d-0e3e30a000c2",
   "metadata": {},
   "source": [
    "### 1.1 sapply\n",
    "Remember that we can make a function as follows:\n",
    "```R\n",
    "ftn <- function(x)\n",
    "    {\n",
    "        sum(is.na(x))\n",
    "    }\n",
    "```\n",
    "\n",
    "We can write this all on one line:\n",
    "```R\n",
    "ftn <- function(x) sum(is.na(x))\n",
    "```\n",
    "\n",
    "Now, we can call `ftn(df$col)` to execute the function for column `col`. But if we want to use the function on all columns, then we need to use the `sapply` function. This will apply the function (*ftn*) to the dataframe (*df*):\n",
    "```R\n",
    "sapply( df , ftn )\n",
    "```\n",
    "\n",
    "You can also do this without saving the function first. You can do this by replacing (*ftn*) with the function itself:\n",
    "```R\n",
    "sapply( df , function(x) sum(is.na(x))\n",
    "```"
   ]
  },
  {
   "cell_type": "code",
   "execution_count": 2,
   "id": "289292c8-eaad-4ae0-b114-0b62e2acb5bd",
   "metadata": {},
   "outputs": [
    {
     "data": {
      "text/html": [
       "177"
      ],
      "text/latex": [
       "177"
      ],
      "text/markdown": [
       "177"
      ],
      "text/plain": [
       "[1] 177"
      ]
     },
     "metadata": {},
     "output_type": "display_data"
    }
   ],
   "source": [
    "sum(is.na(titanic_df$Age))"
   ]
  },
  {
   "cell_type": "code",
   "execution_count": 3,
   "id": "eea51691-cc6f-4590-a8ce-b6ab6013a978",
   "metadata": {},
   "outputs": [
    {
     "data": {
      "text/html": [
       "<style>\n",
       ".dl-inline {width: auto; margin:0; padding: 0}\n",
       ".dl-inline>dt, .dl-inline>dd {float: none; width: auto; display: inline-block}\n",
       ".dl-inline>dt::after {content: \":\\0020\"; padding-right: .5ex}\n",
       ".dl-inline>dt:not(:first-of-type) {padding-left: .5ex}\n",
       "</style><dl class=dl-inline><dt>PassengerId</dt><dd>0</dd><dt>Survived</dt><dd>0</dd><dt>Pclass</dt><dd>0</dd><dt>Name</dt><dd>0</dd><dt>Sex</dt><dd>0</dd><dt>Age</dt><dd>177</dd><dt>SibSp</dt><dd>0</dd><dt>Parch</dt><dd>0</dd><dt>Ticket</dt><dd>0</dd><dt>Fare</dt><dd>0</dd><dt>Cabin</dt><dd>0</dd><dt>Embarked</dt><dd>0</dd></dl>\n"
      ],
      "text/latex": [
       "\\begin{description*}\n",
       "\\item[PassengerId] 0\n",
       "\\item[Survived] 0\n",
       "\\item[Pclass] 0\n",
       "\\item[Name] 0\n",
       "\\item[Sex] 0\n",
       "\\item[Age] 177\n",
       "\\item[SibSp] 0\n",
       "\\item[Parch] 0\n",
       "\\item[Ticket] 0\n",
       "\\item[Fare] 0\n",
       "\\item[Cabin] 0\n",
       "\\item[Embarked] 0\n",
       "\\end{description*}\n"
      ],
      "text/markdown": [
       "PassengerId\n",
       ":   0Survived\n",
       ":   0Pclass\n",
       ":   0Name\n",
       ":   0Sex\n",
       ":   0Age\n",
       ":   177SibSp\n",
       ":   0Parch\n",
       ":   0Ticket\n",
       ":   0Fare\n",
       ":   0Cabin\n",
       ":   0Embarked\n",
       ":   0\n",
       "\n"
      ],
      "text/plain": [
       "PassengerId    Survived      Pclass        Name         Sex         Age \n",
       "          0           0           0           0           0         177 \n",
       "      SibSp       Parch      Ticket        Fare       Cabin    Embarked \n",
       "          0           0           0           0           0           0 "
      ]
     },
     "metadata": {},
     "output_type": "display_data"
    }
   ],
   "source": [
    "sapply( titanic_df, function(x) sum(is.na(x)))"
   ]
  },
  {
   "cell_type": "markdown",
   "id": "fb5ddf3d-ad7d-46a5-a3ad-1f5b0ec77edc",
   "metadata": {},
   "source": [
    "### 1.2 dplyr\n",
    "Here, we are going to do 3 things:\n",
    "1. Call the data frame\n",
    "2. Filter the data frame to just the data we want/need\n",
    "3. Count the NA's"
   ]
  },
  {
   "cell_type": "code",
   "execution_count": null,
   "id": "0f26716b-61aa-463d-8391-6cfb57335a96",
   "metadata": {},
   "outputs": [],
   "source": [
    "library('dplyr')\n",
    "# If not installed, run * install.packages('dplyr') *\n",
    "\n",
    "titanic_df %>%\n",
    "    #filter(Sex == 'female') %>%     # Filter if needed. Can do just the summarise function\n",
    "    summarise_all(funs(sum(is.na(.))))"
   ]
  },
  {
   "cell_type": "markdown",
   "id": "89f9d6b4-33b5-4362-b5b1-c57d80f2fc53",
   "metadata": {},
   "source": [
    "## 2. What to do with Missing Data\n",
    "There are a few different possibilities. Each one depends on how much data is missing and what you want to do with it. But basically, we can say that we'll do one of three things:\n",
    "1. Eliminate missing observations (rows)\n",
    "2. Eliminate variables (columns) that have too much missing data\n",
    "3. Fill in missing values\n",
    "\n",
    "### 2.1 Eliminate missing observations\n",
    "If you are comparing multiple variables together, then having observations that have data for one variable but not the other don't make sense. In this case, you may want to eliminate those observations.\n",
    "\n",
    "To see this, let's look at the first 10 rows of our dataframe as below.\n",
    "* Usually, you will use the dataframe itself: `titanic_df`\n",
    "* For the first 10 rows, call `head(titanic_df,10)`"
   ]
  },
  {
   "cell_type": "code",
   "execution_count": null,
   "id": "6fe2b606-ae60-4e2b-8f7e-81ae082c8e38",
   "metadata": {},
   "outputs": [],
   "source": [
    "head(titanic_df,10)  # Notice the missing value under Age for row 6"
   ]
  },
  {
   "cell_type": "code",
   "execution_count": null,
   "id": "0325d480-c6ce-46b1-bcce-d7573f29a580",
   "metadata": {},
   "outputs": [],
   "source": [
    "library('tidyr')\n",
    "# If not installed, run * install.packages('tidyr') *\n",
    "\n",
    "head(titanic_df,10) %>% drop_na(Age)  # Row 6 is removed"
   ]
  },
  {
   "cell_type": "code",
   "execution_count": null,
   "id": "6e0d1c42-548e-46cc-8e77-193498618551",
   "metadata": {},
   "outputs": [],
   "source": [
    "# Another option:\n",
    "\n",
    "head(titanic_df,10) %>% na.omit()"
   ]
  },
  {
   "cell_type": "markdown",
   "id": "30b9141c-d417-43c0-9dd3-8ab67ee4d313",
   "metadata": {},
   "source": [
    "#### Eliminating values for a calculation\n",
    "Try finding the mean age for the first 10 rows:"
   ]
  },
  {
   "cell_type": "code",
   "execution_count": null,
   "id": "cb5f8ab6-6674-4787-a353-f3f387df0c06",
   "metadata": {},
   "outputs": [],
   "source": [
    "mean(head(titanic_df$Age,10))"
   ]
  },
  {
   "cell_type": "markdown",
   "id": "e7ff899a-1b50-49b9-9e89-69ce4ebe6184",
   "metadata": {},
   "source": [
    "This doesn't work because there are NA values. We can find the mean when we omit the NA values"
   ]
  },
  {
   "cell_type": "code",
   "execution_count": null,
   "id": "e9d76339-df09-4549-bd65-9b7a3a5dd214",
   "metadata": {},
   "outputs": [],
   "source": [
    "# The problem with this method is that if there is an NA for another variable, that line will be omitted even if there is a value for the age.\n",
    "# Should work just fine, but just be aware\n",
    "mean(head(titanic_df$Age, 10) %>% na.omit())"
   ]
  },
  {
   "cell_type": "code",
   "execution_count": null,
   "id": "e465077d-247b-4bb2-ac4d-57c59856ecc5",
   "metadata": {},
   "outputs": [],
   "source": [
    "# This is another method, slightly more straightforward as it doesn't omit NA value, just ignores them in the calculation\n",
    "mean(head(titanic_df$Age, 10), na.rm=T)"
   ]
  },
  {
   "cell_type": "markdown",
   "id": "374cc8f9-4f1b-4f26-abc6-e8b5db75a060",
   "metadata": {
    "tags": []
   },
   "source": [
    "### 2.2 Ignoring Variables\n",
    "Sometimes, there are just too many NA's within one variable to make it useful. If this is the case, then the variable may not be helpful.\n",
    "\n",
    "### 2.3 Filling in values\n",
    "If there isn't too much missing data, then it could be acceptable to insert a dummy value. This could be useful when we still want to compare two variables, but missing data makes comparison of some data points impossible.\n",
    "* _*WARNING*_: If there is a lot of missing data, then filling in values *could* affect the result and would be falsifying data. As long as the percentage of missing data is low, filling values will help to "
   ]
  },
  {
   "cell_type": "code",
   "execution_count": null,
   "id": "694b7796-857d-4d77-b466-1b88554aa5e5",
   "metadata": {},
   "outputs": [],
   "source": [
    "# Original/Unfilled values\n",
    "titanic_df[106:112,]"
   ]
  },
  {
   "cell_type": "markdown",
   "id": "96f5d8bf-4f43-4794-94cf-8427434439a3",
   "metadata": {},
   "source": [
    "#### Filling with Average Values"
   ]
  },
  {
   "cell_type": "code",
   "execution_count": null,
   "id": "222949ed-4737-4624-aaf0-18b322e42582",
   "metadata": {},
   "outputs": [],
   "source": [
    "# This will permanently change the NA values. You can always reload the data to try a different method.\n",
    "titanic_df$Age[is.na(titanic_df$Age)] <- mean(titanic_df$Age, na.rm = T)\n",
    "\n",
    "# Could also replace with Min, Max, or some other value"
   ]
  },
  {
   "cell_type": "markdown",
   "id": "b9449fbc-7419-4791-aaf3-cca474843ca6",
   "metadata": {},
   "source": [
    "#### Filling with Neighboring Values"
   ]
  },
  {
   "cell_type": "code",
   "execution_count": null,
   "id": "7e234000-55e8-4072-a6ef-dc82ee9192fa",
   "metadata": {
    "tags": []
   },
   "outputs": [],
   "source": [
    "# Start from the bottom and work UP. Fills any NA value with the value below it.\n",
    "# Note entries 108 and 110 for the 'Age' column - Each is filled with the value below it.\n",
    "\n",
    "titanic_df[106:112,] <- titanic_df[106:112,] %>% fill(Age, .direction=\"up\")"
   ]
  },
  {
   "cell_type": "code",
   "execution_count": null,
   "id": "259ab6f0-7c32-44a4-85c2-795911f9ebb3",
   "metadata": {},
   "outputs": [],
   "source": [
    "# Start from the top and work DOWN. Fills any NA value with the value above it.\n",
    "# Note entries 108 and 110 for the 'Age' column - Each is now filled with the value above it.\n",
    "\n",
    "titanic_df[106:112,] <- titanic_df[106:112,] %>% fill(Age, .direction=\"down\")"
   ]
  },
  {
   "cell_type": "markdown",
   "id": "59aa6238-a725-4bc8-9922-0f87ac57985c",
   "metadata": {},
   "source": [
    "#### Filling Multiple NA values\n",
    "Some data is missing multiple data points in a row. All of these could be filled just as seen in the UP/DOWN passes seen earlier. But if it happens to have an anomolous value, there a high percentage of data is filled with that anomolous value."
   ]
  },
  {
   "cell_type": "code",
   "execution_count": null,
   "id": "34e789c6-bf47-474f-9129-d7c86a5bbbb1",
   "metadata": {},
   "outputs": [],
   "source": [
    "titanic_df[40:53, ]"
   ]
  },
  {
   "cell_type": "code",
   "execution_count": null,
   "id": "50e54463-8f64-47cd-bf44-81d41f990bb6",
   "metadata": {},
   "outputs": [],
   "source": [
    "# Start from the bottom and work UP. Fills any NA value with the value below it.\n",
    "# If it originally had an NA below it, it remains an NA\n",
    "\n",
    "# Second pass - Start from the top and work DOWN. Fills any NA value with the value below it.\n",
    "# If it originally had an NA above it after the first pass, it remains an NA\n",
    "\n",
    "# Third pass - same as the first\n",
    "\n",
    "# etc.\n",
    "\n",
    "titanic_df[40:53,] <- titanic_df[40:53,] %>% fill(Age, .direction=\"downup\") # could also do downup"
   ]
  }
 ],
 "metadata": {
  "kernelspec": {
   "display_name": "R",
   "language": "R",
   "name": "ir"
  },
  "language_info": {
   "codemirror_mode": "r",
   "file_extension": ".r",
   "mimetype": "text/x-r-source",
   "name": "R",
   "pygments_lexer": "r",
   "version": "4.0.4"
  }
 },
 "nbformat": 4,
 "nbformat_minor": 5
}
